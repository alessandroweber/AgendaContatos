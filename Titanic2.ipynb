{
  "nbformat": 4,
  "nbformat_minor": 0,
  "metadata": {
    "colab": {
      "provenance": [],
      "authorship_tag": "ABX9TyMsKnMPv/MJ4wyYhpxspoyS",
      "include_colab_link": true
    },
    "kernelspec": {
      "name": "python3",
      "display_name": "Python 3"
    },
    "language_info": {
      "name": "python"
    }
  },
  "cells": [
    {
      "cell_type": "markdown",
      "metadata": {
        "id": "view-in-github",
        "colab_type": "text"
      },
      "source": [
        "<a href=\"https://colab.research.google.com/github/alessandroweber/AgendaContatos/blob/main/Titanic2.ipynb\" target=\"_parent\"><img src=\"https://colab.research.google.com/assets/colab-badge.svg\" alt=\"Open In Colab\"/></a>"
      ]
    },
    {
      "cell_type": "code",
      "execution_count": 1,
      "metadata": {
        "id": "Q4zUAlAhgvOy"
      },
      "outputs": [],
      "source": [
        "import pandas as pd\n",
        "import numpy as np\n",
        "import matplotlib.pyplot as plt\n",
        "from sklearn.preprocessing import MinMaxScaler, StandardScaler, RobustScaler"
      ]
    },
    {
      "cell_type": "code",
      "source": [
        "# Carregar o DataFrame\n",
        "df = pd.read_csv('train.csv')"
      ],
      "metadata": {
        "id": "lU-UNjqVhAYh"
      },
      "execution_count": 2,
      "outputs": []
    },
    {
      "cell_type": "code",
      "source": [
        "# 1. Análise Inicial\n",
        "print(\"1. Análise Inicial\\n\")\n",
        "print(\"Resumo do DataFrame:\")\n",
        "df.info()\n",
        "print(\"\\nResumo estatístico para colunas numéricas:\")\n",
        "print(df.describe())"
      ],
      "metadata": {
        "colab": {
          "base_uri": "https://localhost:8080/"
        },
        "id": "aaJz4qDFhD8H",
        "outputId": "c19b801a-802c-4782-d549-217b442d389b"
      },
      "execution_count": 3,
      "outputs": [
        {
          "output_type": "stream",
          "name": "stdout",
          "text": [
            "1. Análise Inicial\n",
            "\n",
            "Resumo do DataFrame:\n",
            "<class 'pandas.core.frame.DataFrame'>\n",
            "RangeIndex: 891 entries, 0 to 890\n",
            "Data columns (total 12 columns):\n",
            " #   Column       Non-Null Count  Dtype  \n",
            "---  ------       --------------  -----  \n",
            " 0   PassengerId  891 non-null    int64  \n",
            " 1   Survived     891 non-null    int64  \n",
            " 2   Pclass       891 non-null    int64  \n",
            " 3   Name         891 non-null    object \n",
            " 4   Sex          891 non-null    object \n",
            " 5   Age          714 non-null    float64\n",
            " 6   SibSp        891 non-null    int64  \n",
            " 7   Parch        891 non-null    int64  \n",
            " 8   Ticket       891 non-null    object \n",
            " 9   Fare         891 non-null    float64\n",
            " 10  Cabin        204 non-null    object \n",
            " 11  Embarked     889 non-null    object \n",
            "dtypes: float64(2), int64(5), object(5)\n",
            "memory usage: 83.7+ KB\n",
            "\n",
            "Resumo estatístico para colunas numéricas:\n",
            "       PassengerId    Survived      Pclass         Age       SibSp  \\\n",
            "count   891.000000  891.000000  891.000000  714.000000  891.000000   \n",
            "mean    446.000000    0.383838    2.308642   29.699118    0.523008   \n",
            "std     257.353842    0.486592    0.836071   14.526497    1.102743   \n",
            "min       1.000000    0.000000    1.000000    0.420000    0.000000   \n",
            "25%     223.500000    0.000000    2.000000   20.125000    0.000000   \n",
            "50%     446.000000    0.000000    3.000000   28.000000    0.000000   \n",
            "75%     668.500000    1.000000    3.000000   38.000000    1.000000   \n",
            "max     891.000000    1.000000    3.000000   80.000000    8.000000   \n",
            "\n",
            "            Parch        Fare  \n",
            "count  891.000000  891.000000  \n",
            "mean     0.381594   32.204208  \n",
            "std      0.806057   49.693429  \n",
            "min      0.000000    0.000000  \n",
            "25%      0.000000    7.910400  \n",
            "50%      0.000000   14.454200  \n",
            "75%      0.000000   31.000000  \n",
            "max      6.000000  512.329200  \n"
          ]
        }
      ]
    },
    {
      "cell_type": "code",
      "source": [
        "# 2. Tratamento de Dados Ausentes\n",
        "print(\"\\n2. Tratamento de Dados Ausentes\")\n",
        "# Preencher 'Age' com a média para cada Pclass\n",
        "df['Age'] = df.groupby('Pclass')['Age'].transform(lambda x: x.fillna(x.mean()))\n",
        "print(\"Valores ausentes em 'Age' preenchidos com a média por Pclass.\")\n",
        "# Preencher 'Embarked' com a moda\n",
        "most_frequent_embarked = df['Embarked'].mode()[0]\n",
        "df['Embarked'].fillna(most_frequent_embarked, inplace=True)\n",
        "print(\"Valores ausentes em 'Embarked' preenchidos com a moda.\")\n",
        "# Remover a coluna 'Cabin'\n",
        "df.drop('Cabin', axis=1, inplace=True)\n",
        "print(\"Coluna 'Cabin' removida.\")\n",
        "# Verificação final de nulos\n",
        "print(\"\\nContagem de valores nulos após o tratamento:\")\n",
        "print(df.isnull().sum())"
      ],
      "metadata": {
        "colab": {
          "base_uri": "https://localhost:8080/"
        },
        "id": "sFM0fRSkhJJN",
        "outputId": "4339ddae-a5f9-463f-c4ed-0e499c7ded11"
      },
      "execution_count": 4,
      "outputs": [
        {
          "output_type": "stream",
          "name": "stdout",
          "text": [
            "\n",
            "2. Tratamento de Dados Ausentes\n",
            "Valores ausentes em 'Age' preenchidos com a média por Pclass.\n",
            "Valores ausentes em 'Embarked' preenchidos com a moda.\n",
            "Coluna 'Cabin' removida.\n",
            "\n",
            "Contagem de valores nulos após o tratamento:\n",
            "PassengerId    0\n",
            "Survived       0\n",
            "Pclass         0\n",
            "Name           0\n",
            "Sex            0\n",
            "Age            0\n",
            "SibSp          0\n",
            "Parch          0\n",
            "Ticket         0\n",
            "Fare           0\n",
            "Embarked       0\n",
            "dtype: int64\n"
          ]
        },
        {
          "output_type": "stream",
          "name": "stderr",
          "text": [
            "/tmp/ipython-input-2443593869.py:8: FutureWarning: A value is trying to be set on a copy of a DataFrame or Series through chained assignment using an inplace method.\n",
            "The behavior will change in pandas 3.0. This inplace method will never work because the intermediate object on which we are setting values always behaves as a copy.\n",
            "\n",
            "For example, when doing 'df[col].method(value, inplace=True)', try using 'df.method({col: value}, inplace=True)' or df[col] = df[col].method(value) instead, to perform the operation inplace on the original object.\n",
            "\n",
            "\n",
            "  df['Embarked'].fillna(most_frequent_embarked, inplace=True)\n"
          ]
        }
      ]
    },
    {
      "cell_type": "code",
      "source": [
        "# 3. Tratamento de Outliers (Coluna 'Fare')\n",
        "print(\"\\n3. Tratamento de Outliers na coluna 'Fare'\")\n",
        "# Visualização opcional antes da remoção\n",
        "plt.figure(figsize=(8, 6))\n",
        "df.boxplot(column='Fare')\n",
        "plt.title('Boxplot de Fare (Antes da Remoção de Outliers)')\n",
        "plt.ylabel('Fare')\n",
        "plt.savefig('fare_boxplot_before.png')\n",
        "plt.close()"
      ],
      "metadata": {
        "colab": {
          "base_uri": "https://localhost:8080/"
        },
        "id": "Ny0SyUzAhQrm",
        "outputId": "a8d68cff-67ca-41ac-e780-db4247202643"
      },
      "execution_count": 5,
      "outputs": [
        {
          "output_type": "stream",
          "name": "stdout",
          "text": [
            "\n",
            "3. Tratamento de Outliers na coluna 'Fare'\n"
          ]
        }
      ]
    },
    {
      "cell_type": "code",
      "source": [
        "# Cálculo dos limites IQR\n",
        "Q1 = df['Fare'].quantile(0.25)\n",
        "Q3 = df['Fare'].quantile(0.75)\n",
        "IQR = Q3 - Q1\n",
        "lower_bound = Q1 - 1.5 * IQR\n",
        "upper_bound = Q3 + 1.5 * IQR\n",
        "print(f\"Limites de Outlier para 'Fare': Inferior = {lower_bound:.2f}, Superior = {upper_bound:.2f}\")\n",
        "# Remover outliers\n",
        "df_cleaned = df[(df['Fare'] >= lower_bound) & (df['Fare'] <= upper_bound)]\n",
        "print(f\"Linhas removidas: {len(df) - len(df_cleaned)}\")\n",
        "# Visualização opcional depois da remoção\n",
        "plt.figure(figsize=(8, 6))\n",
        "df_cleaned.boxplot(column='Fare')\n",
        "plt.title('Boxplot de Fare (Depois da Remoção de Outliers)')\n",
        "plt.ylabel('Fare')\n",
        "plt.savefig('fare_boxplot_after.png')\n",
        "plt.close()\n",
        "df = df_cleaned"
      ],
      "metadata": {
        "colab": {
          "base_uri": "https://localhost:8080/"
        },
        "id": "7hwbVSzFhU9m",
        "outputId": "d065bddb-6817-4295-a2d4-4bf554fc1dfd"
      },
      "execution_count": 6,
      "outputs": [
        {
          "output_type": "stream",
          "name": "stdout",
          "text": [
            "Limites de Outlier para 'Fare': Inferior = -26.72, Superior = 65.63\n",
            "Linhas removidas: 116\n"
          ]
        }
      ]
    },
    {
      "cell_type": "code",
      "source": [
        "# 4. Formatação e Engenharia de Features\n",
        "print(\"\\n4. Formatação e Engenharia de Features\")\n",
        "# Converter 'Sex'\n",
        "df['Sex'] = df['Sex'].map({'male': 0, 'female': 1})\n",
        "print(\"Coluna 'Sex' convertida para valores numéricos.\")\n",
        "# One-Hot Encoding em 'Embarked'\n",
        "df = pd.get_dummies(df, columns=['Embarked'], drop_first=True)\n",
        "print(\"One-Hot Encoding aplicado em 'Embarked'.\")\n",
        "# Remover colunas irrelevantes\n",
        "df.drop(['Name', 'Ticket', 'PassengerId'], axis=1, inplace=True)\n",
        "print(\"Colunas 'Name', 'Ticket' e 'PassengerId' removidas.\")"
      ],
      "metadata": {
        "colab": {
          "base_uri": "https://localhost:8080/"
        },
        "id": "C6XfnnnvhZWO",
        "outputId": "2646fb8c-d29e-4f1a-bb16-350d599e3f4a"
      },
      "execution_count": 7,
      "outputs": [
        {
          "output_type": "stream",
          "name": "stdout",
          "text": [
            "\n",
            "4. Formatação e Engenharia de Features\n",
            "Coluna 'Sex' convertida para valores numéricos.\n",
            "One-Hot Encoding aplicado em 'Embarked'.\n",
            "Colunas 'Name', 'Ticket' e 'PassengerId' removidas.\n"
          ]
        }
      ]
    },
    {
      "cell_type": "code",
      "source": [
        "# 5. Escalonamento de Dados Numéricos\n",
        "print(\"\\n5. Escalonamento de Dados Numéricos\")\n",
        "numeric_cols = ['Age', 'SibSp', 'Parch', 'Fare']\n",
        "numeric_df = df[numeric_cols].copy()\n",
        "# Min-Max Scaler\n",
        "min_max_scaler = MinMaxScaler()\n",
        "min_max_scaled = min_max_scaler.fit_transform(numeric_df)\n",
        "min_max_scaled_df = pd.DataFrame(min_max_scaled, columns=numeric_cols, index=numeric_df.index)\n",
        "print(\"\\nMin-Max Scaler (primeiras 5 linhas):\")\n",
        "print(min_max_scaled_df.head())\n",
        "# Standard Scaler\n",
        "standard_scaler = StandardScaler()\n",
        "standard_scaled = standard_scaler.fit_transform(numeric_df)\n",
        "standard_scaled_df = pd.DataFrame(standard_scaled, columns=numeric_cols, index=numeric_df.index)\n",
        "print(\"\\nStandard Scaler (primeiras 5 linhas):\")\n",
        "print(standard_scaled_df.head())\n",
        "# Robust Scaler\n",
        "robust_scaler = RobustScaler()\n",
        "robust_scaled = robust_scaler.fit_transform(numeric_df)\n",
        "robust_scaled_df = pd.DataFrame(robust_scaled, columns=numeric_cols, index=numeric_df.index)\n",
        "print(\"\\nRobust Scaler (primeiras 5 linhas):\")\n",
        "print(robust_scaled_df.head())\n",
        "# Nota: As colunas não numéricas já foram tratadas no DataFrame 'df' original."
      ],
      "metadata": {
        "colab": {
          "base_uri": "https://localhost:8080/"
        },
        "id": "3KcdM2Lwhdxe",
        "outputId": "91a5db03-9473-4b9e-cea7-d4037cf7a012"
      },
      "execution_count": 8,
      "outputs": [
        {
          "output_type": "stream",
          "name": "stdout",
          "text": [
            "\n",
            "5. Escalonamento de Dados Numéricos\n",
            "\n",
            "Min-Max Scaler (primeiras 5 linhas):\n",
            "        Age  SibSp  Parch      Fare\n",
            "0  0.271174    0.2    0.0  0.111538\n",
            "2  0.321438    0.0    0.0  0.121923\n",
            "3  0.434531    0.2    0.0  0.816923\n",
            "4  0.434531    0.0    0.0  0.123846\n",
            "5  0.310639    0.0    0.0  0.130128\n",
            "\n",
            "Standard Scaler (primeiras 5 linhas):\n",
            "        Age     SibSp     Parch      Fare\n",
            "0 -0.508774  0.625606 -0.433718 -0.779117\n",
            "2 -0.199954 -0.486423 -0.433718 -0.729373\n",
            "3  0.494891  0.625606 -0.433718  2.599828\n",
            "4  0.494891 -0.486423 -0.433718 -0.720161\n",
            "5 -0.266302 -0.486423 -0.433718 -0.690071\n",
            "\n",
            "Robust Scaler (primeiras 5 linhas):\n",
            "        Age  SibSp  Parch      Fare\n",
            "0 -0.241586    1.0    0.0 -0.317606\n",
            "2  0.066106    0.0    0.0 -0.280322\n",
            "3  0.758414    1.0    0.0  2.214956\n",
            "4  0.758414    0.0    0.0 -0.273417\n",
            "5  0.000000    0.0    0.0 -0.250864\n"
          ]
        }
      ]
    },
    {
      "cell_type": "code",
      "source": [
        "# 6. Análise de Correlação\n",
        "print(\"\\n6. Análise de Correlação\")\n",
        "# Calcule a matriz de correlação no DataFrame final\n",
        "final_df = df.copy()\n",
        "final_df['Fare'] = robust_scaled_df['Fare'] # Usando Fare escalonado para a análise final\n",
        "final_df['Age'] = robust_scaled_df['Age']\n",
        "final_df['SibSp'] = robust_scaled_df['SibSp']\n",
        "final_df['Parch'] = robust_scaled_df['Parch']\n",
        "\n",
        "correlation_matrix = final_df.corr()\n",
        "print(\"Matriz de Correlação:\")\n",
        "print(correlation_matrix)"
      ],
      "metadata": {
        "colab": {
          "base_uri": "https://localhost:8080/"
        },
        "id": "ZlmbruoKhkct",
        "outputId": "9f04ae85-69ea-4e33-f6c7-ba0b9b3ada3a"
      },
      "execution_count": 9,
      "outputs": [
        {
          "output_type": "stream",
          "name": "stdout",
          "text": [
            "\n",
            "6. Análise de Correlação\n",
            "Matriz de Correlação:\n",
            "            Survived    Pclass       Sex       Age     SibSp     Parch  \\\n",
            "Survived    1.000000 -0.238532  0.499888 -0.109244 -0.003156  0.098575   \n",
            "Pclass     -0.238532  1.000000 -0.011810 -0.417393  0.113943  0.083451   \n",
            "Sex         0.499888 -0.011810  1.000000 -0.134055  0.146035  0.289637   \n",
            "Age        -0.109244 -0.417393 -0.134055  1.000000 -0.334185 -0.200915   \n",
            "SibSp      -0.003156  0.113943  0.146035 -0.334185  1.000000  0.410182   \n",
            "Parch       0.098575  0.083451  0.289637 -0.200915  0.410182  1.000000   \n",
            "Fare        0.234422 -0.589776  0.134106  0.124214  0.370388  0.336844   \n",
            "Embarked_Q  0.032707  0.214080  0.107002 -0.066755 -0.013621 -0.069729   \n",
            "Embarked_S -0.102337 -0.054342 -0.095835  0.064770  0.055095  0.038364   \n",
            "\n",
            "                Fare  Embarked_Q  Embarked_S  \n",
            "Survived    0.234422    0.032707   -0.102337  \n",
            "Pclass     -0.589776    0.214080   -0.054342  \n",
            "Sex         0.134106    0.107002   -0.095835  \n",
            "Age         0.124214   -0.066755    0.064770  \n",
            "SibSp       0.370388   -0.013621    0.055095  \n",
            "Parch       0.336844   -0.069729    0.038364  \n",
            "Fare        1.000000   -0.159017    0.011980  \n",
            "Embarked_Q -0.159017    1.000000   -0.572363  \n",
            "Embarked_S  0.011980   -0.572363    1.000000  \n"
          ]
        }
      ]
    }
  ]
}